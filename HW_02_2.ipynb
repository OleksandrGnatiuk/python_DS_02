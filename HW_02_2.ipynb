{
  "nbformat": 4,
  "nbformat_minor": 0,
  "metadata": {
    "colab": {
      "provenance": []
    },
    "kernelspec": {
      "name": "python3",
      "display_name": "Python 3"
    },
    "language_info": {
      "name": "python"
    }
  },
  "cells": [
    {
      "cell_type": "markdown",
      "source": [
        "# Проведіть аналіз файлу 2017_jun_final.csv. Файл містить результати опитування розробників у червні 2017 року."
      ],
      "metadata": {
        "id": "3xQ-1OWTnnBQ"
      }
    },
    {
      "cell_type": "code",
      "source": [
        "import numpy as np\n",
        "import pandas as pd"
      ],
      "metadata": {
        "id": "pZVVxORXn3b0"
      },
      "execution_count": 5,
      "outputs": []
    },
    {
      "cell_type": "markdown",
      "source": [
        "Прочитайте файл 2017_jun_final.csv за допомогою методу read_csv"
      ],
      "metadata": {
        "id": "zry2eZ3Znve8"
      }
    },
    {
      "cell_type": "code",
      "source": [
        "result = pd.read_csv(f\"https://drive.google.com/file/d/1xPq5ST6A8G4l8ncuYU8vY0GC4WDUkZmT/view\", sep=\",\")\n",
        "print(result)"
      ],
      "metadata": {
        "colab": {
          "base_uri": "https://localhost:8080/"
        },
        "id": "0gDvkPdjn2gX",
        "outputId": "6f475cff-4cf7-418b-e7b3-ad1ad69519c4"
      },
      "execution_count": 19,
      "outputs": [
        {
          "output_type": "stream",
          "name": "stdout",
          "text": [
            "    <!DOCTYPE html><html><head><meta name=\"google\" content=\"notranslate\"><meta http-equiv=\"X-UA-Compatible\" content=\"IE=edge;\"><style nonce=\"Q4GelII8okrLhLwGtFR3vQ\">@font-face{font-family:'Roboto';font-style:italic;font-weight:400;src:url(//fonts.gstatic.com/s/roboto/v18/KFOkCnqEu92Fr1Mu51xIIzc.ttf)format('truetype');}@font-face{font-family:'Roboto';font-style:normal;font-weight:300;src:url(//fonts.gstatic.com/s/roboto/v18/KFOlCnqEu92Fr1MmSU5fBBc9.ttf)format('truetype');}@font-face{font-family:'Roboto';font-style:normal;font-weight:400;src:url(//fonts.gstatic.com/s/roboto/v18/KFOmCnqEu92Fr1Mu4mxP.ttf)format('truetype');}@font-face{font-family:'Roboto';font-style:normal;font-weight:500;src:url(//fonts.gstatic.com/s/roboto/v18/KFOlCnqEu92Fr1MmEU9fBBc9.ttf)format('truetype');}@font-face{font-family:'Roboto';font-style:normal;font-weight:700;src:url(//fonts.gstatic.com/s/roboto/v18/KFOlCnqEu92Fr1MmWUlfBBc9.ttf)format('truetype');}</style><meta name=\"referrer\" content=\"origin\"><title>2017_jun_final.csv - Google Drive</title><meta property=\"og:title\" content=\"2017_jun_final.csv\"><meta property=\"og:type\" content=\"article\"><meta property=\"og:site_name\" content=\"Google Docs\"><meta property=\"og:url\" content=\"https://drive.google.com/file/d/1xPq5ST6A8G4l8ncuYU8vY0GC4WDUkZmT/view?usp=embed_facebook\"><link rel=\"shortcut icon\" href=\"https://ssl.gstatic.com/images/branding/product/1x/drive_2020q4_32dp.png\"><link rel=\"stylesheet\" href=\"https://fonts.googleapis.com/css?family=Google+Sans_old:300  \\\n",
            "0                                                 try{                                                                                                                                                                                                                                                                                                                                                                                                                                                                                                                                                                                                                                                                                                                                                                                                                                                                                                                                                                                                                                                                                                                                                                                                                                                                                                                                                                                                                                                                                                            \n",
            "1                                                   /*                                                                                                                                                                                                                                                                                                                                                                                                                                                                                                                                                                                                                                                                                                                                                                                                                                                                                                                                                                                                                                                                                                                                                                                                                                                                                                                                                                                                                                                                                                            \n",
            "2               Copyright The Closure Library Authors.                                                                                                                                                                                                                                                                                                                                                                                                                                                                                                                                                                                                                                                                                                                                                                                                                                                                                                                                                                                                                                                                                                                                                                                                                                                                                                                                                                                                                                                                                                            \n",
            "3                  SPDX-License-Identifier: Apache-2.0                                                                                                                                                                                                                                                                                                                                                                                                                                                                                                                                                                                                                                                                                                                                                                                                                                                                                                                                                                                                                                                                                                                                                                                                                                                                                                                                                                                                                                                                                                            \n",
            "4                                                   */                                                                                                                                                                                                                                                                                                                                                                                                                                                                                                                                                                                                                                                                                                                                                                                                                                                                                                                                                                                                                                                                                                                                                                                                                                                                                                                                                                                                                                                                                                            \n",
            "..                                                 ...                                                                                                                                                                                                                                                                                                                                                                                                                                                                                                                                                                                                                                                                                                                                                                                                                                                                                                                                                                                                                                                                                                                                                                                                                                                                                                                                                                                                                                                                                                            \n",
            "121                                  var Xj=function(a                                                                                                                                                                                                                                                                                                                                                                                                                                                                                                                                                                                                                                                                                                                                                                                                                                                                                                                                                                                                                                                                                                                                                                                                                                                                                                                                                                                                                                                                                                            \n",
            "122                     }catch(e){_._DumpException(e)}                                                                                                                                                                                                                                                                                                                                                                                                                                                                                                                                                                                                                                                                                                                                                                                                                                                                                                                                                                                                                                                                                                                                                                                                                                                                                                                                                                                                                                                                                                            \n",
            "123                                    })(this.gbar_);                                                                                                                                                                                                                                                                                                                                                                                                                                                                                                                                                                                                                                                                                                                                                                                                                                                                                                                                                                                                                                                                                                                                                                                                                                                                                                                                                                                                                                                                                                            \n",
            "124                                     // Google Inc.                                                                                                                                                                                                                                                                                                                                                                                                                                                                                                                                                                                                                                                                                                                                                                                                                                                                                                                                                                                                                                                                                                                                                                                                                                                                                                                                                                                                                                                                                                            \n",
            "125  </script><script id=\"base-js\" async type=\"text...                                                                                                                                                                                                                                                                                                                                                                                                                                                                                                                                                                                                                                                                                                                                                                                                                                                                                                                                                                                                                                                                                                                                                                                                                                                                                                                                                                                                                                                                                                            \n",
            "\n",
            "                                                   400             500  \\\n",
            "0                                                  NaN             NaN   \n",
            "1                                                  NaN             NaN   \n",
            "2                                                  NaN             NaN   \n",
            "3                                                  NaN             NaN   \n",
            "4                                                  NaN             NaN   \n",
            "..                                                 ...             ...   \n",
            "121                                                  b  c){_.ue.log(46   \n",
            "122                                                NaN             NaN   \n",
            "123                                                NaN             NaN   \n",
            "124                                                NaN             NaN   \n",
            "125  wb\" nonce=\"52sFA51oA4-twr0-a8Dc4g\"></script></...             NaN   \n",
            "\n",
            "    700\" nonce=\"Q4GelII8okrLhLwGtFR3vQ\"><link rel=\"stylesheet\" href=\"https://www.gstatic.com/_/apps-fileview/_/ss/k=apps-fileview.v.F0ZXztamQXE.L.X.O/am=AAAC/d=0/rs=AO0039tElY37Ro8oEd5JtQ_zMoN88rejvg\" nonce=\"Q4GelII8okrLhLwGtFR3vQ\"><script nonce=\"52sFA51oA4-twr0-a8Dc4g\">_docs_flag_initialData={\"docs-ails\":\"docs_cold\"  \\\n",
            "0                                                  NaN                                                                                                                                                                                                                                                                           \n",
            "1                                                  NaN                                                                                                                                                                                                                                                                           \n",
            "2                                                  NaN                                                                                                                                                                                                                                                                           \n",
            "3                                                  NaN                                                                                                                                                                                                                                                                           \n",
            "4                                                  NaN                                                                                                                                                                                                                                                                           \n",
            "..                                                 ...                                                                                                                                                                                                                                                                           \n",
            "121                                             {att:a                                                                                                                                                                                                                                                                           \n",
            "122                                                NaN                                                                                                                                                                                                                                                                           \n",
            "123                                                NaN                                                                                                                                                                                                                                                                           \n",
            "124                                                NaN                                                                                                                                                                                                                                                                           \n",
            "125                                                NaN                                                                                                                                                                                                                                                                           \n",
            "\n",
            "    docs-fwds:\"docs_sdf\" docs-crs:\"docs_crs_nl\"   docs-fe-re:2 docs-fl:1  \\\n",
            "0                    NaN                    NaN            NaN       NaN   \n",
            "1                    NaN                    NaN            NaN       NaN   \n",
            "2                    NaN                    NaN            NaN       NaN   \n",
            "3                    NaN                    NaN            NaN       NaN   \n",
            "4                    NaN                    NaN            NaN       NaN   \n",
            "..                   ...                    ...            ...       ...   \n",
            "121                max:b               url:c})}  Zj=function(a         b   \n",
            "122                  NaN                    NaN            NaN       NaN   \n",
            "123                  NaN                    NaN            NaN       NaN   \n",
            "124                  NaN                    NaN            NaN       NaN   \n",
            "125                  NaN                    NaN            NaN       NaN   \n",
            "\n",
            "        docs-l1lc:2 docs-l1lm:\"CBF\"  ... 0.84 0.85 0.86 0.87 1].11 [[null.2  \\\n",
            "0               NaN             NaN  ...  NaN  NaN  NaN  NaN   NaN      NaN   \n",
            "1               NaN             NaN  ...  NaN  NaN  NaN  NaN   NaN      NaN   \n",
            "2               NaN             NaN  ...  NaN  NaN  NaN  NaN   NaN      NaN   \n",
            "3               NaN             NaN  ...  NaN  NaN  NaN  NaN   NaN      NaN   \n",
            "4               NaN             NaN  ...  NaN  NaN  NaN  NaN   NaN      NaN   \n",
            "..              ...             ...  ...  ...  ...  ...  ...   ...      ...   \n",
            "121  c){_.ue.log(47          {att:a  ...  NaN  NaN  NaN  NaN   NaN      NaN   \n",
            "122             NaN             NaN  ...  NaN  NaN  NaN  NaN   NaN      NaN   \n",
            "123             NaN             NaN  ...  NaN  NaN  NaN  NaN   NaN      NaN   \n",
            "124             NaN             NaN  ...  NaN  NaN  NaN  NaN   NaN      NaN   \n",
            "125             NaN             NaN  ...  NaN  NaN  NaN  NaN   NaN      NaN   \n",
            "\n",
            "    null.211 null.212  \\\n",
            "0        NaN      NaN   \n",
            "1        NaN      NaN   \n",
            "2        NaN      NaN   \n",
            "3        NaN      NaN   \n",
            "4        NaN      NaN   \n",
            "..       ...      ...   \n",
            "121      NaN      NaN   \n",
            "122      NaN      NaN   \n",
            "123      NaN      NaN   \n",
            "124      NaN      NaN   \n",
            "125      NaN      NaN   \n",
            "\n",
            "    https://www.gstatic.com/og/_/js/k=og.qtm.en_US.vX06GWkLH6g.es5.O/rt=j/m=qabr,q_dnp,qapid/exm=qaaw,qadd,qaid,qein,qhaw,qhba,qhbr,qhch,qhga,qhid,qhin/d=1/ed=1/rs=AA2YrTuXxW-mubAnPdpUcFP83iQPdD2xcw]]]]  \\\n",
            "0                                                  NaN                                                                                                                                                       \n",
            "1                                                  NaN                                                                                                                                                       \n",
            "2                                                  NaN                                                                                                                                                       \n",
            "3                                                  NaN                                                                                                                                                       \n",
            "4                                                  NaN                                                                                                                                                       \n",
            "..                                                 ...                                                                                                                                                       \n",
            "121                                                NaN                                                                                                                                                       \n",
            "122                                                NaN                                                                                                                                                       \n",
            "123                                                NaN                                                                                                                                                       \n",
            "124                                                NaN                                                                                                                                                       \n",
            "125                                                NaN                                                                                                                                                       \n",
            "\n",
            "    };this.gbar_=this.gbar_||{};(function(_){var window=this;  \n",
            "0                                                  NaN         \n",
            "1                                                  NaN         \n",
            "2                                                  NaN         \n",
            "3                                                  NaN         \n",
            "4                                                  NaN         \n",
            "..                                                 ...         \n",
            "121                                                NaN         \n",
            "122                                                NaN         \n",
            "123                                                NaN         \n",
            "124                                                NaN         \n",
            "125                                                NaN         \n",
            "\n",
            "[126 rows x 843 columns]\n"
          ]
        }
      ]
    },
    {
      "cell_type": "code",
      "execution_count": 14,
      "metadata": {
        "colab": {
          "base_uri": "https://localhost:8080/",
          "height": 287
        },
        "id": "CY3xyZeTnawu",
        "outputId": "a145d9a2-4ef4-47ac-c0b9-39606ee366f8"
      },
      "outputs": [
        {
          "output_type": "error",
          "ename": "AttributeError",
          "evalue": "ignored",
          "traceback": [
            "\u001b[0;31m---------------------------------------------------------------------------\u001b[0m",
            "\u001b[0;31mAttributeError\u001b[0m                            Traceback (most recent call last)",
            "\u001b[0;32m<ipython-input-14-d7a4b29ef4a1>\u001b[0m in \u001b[0;36m<cell line: 1>\u001b[0;34m()\u001b[0m\n\u001b[0;32m----> 1\u001b[0;31m \u001b[0mresult\u001b[0m\u001b[0;34m.\u001b[0m\u001b[0mdtype\u001b[0m\u001b[0;34m\u001b[0m\u001b[0;34m\u001b[0m\u001b[0m\n\u001b[0m",
            "\u001b[0;32m/usr/local/lib/python3.10/dist-packages/pandas/core/generic.py\u001b[0m in \u001b[0;36m__getattr__\u001b[0;34m(self, name)\u001b[0m\n\u001b[1;32m   5900\u001b[0m         ):\n\u001b[1;32m   5901\u001b[0m             \u001b[0;32mreturn\u001b[0m \u001b[0mself\u001b[0m\u001b[0;34m[\u001b[0m\u001b[0mname\u001b[0m\u001b[0;34m]\u001b[0m\u001b[0;34m\u001b[0m\u001b[0;34m\u001b[0m\u001b[0m\n\u001b[0;32m-> 5902\u001b[0;31m         \u001b[0;32mreturn\u001b[0m \u001b[0mobject\u001b[0m\u001b[0;34m.\u001b[0m\u001b[0m__getattribute__\u001b[0m\u001b[0;34m(\u001b[0m\u001b[0mself\u001b[0m\u001b[0;34m,\u001b[0m \u001b[0mname\u001b[0m\u001b[0;34m)\u001b[0m\u001b[0;34m\u001b[0m\u001b[0;34m\u001b[0m\u001b[0m\n\u001b[0m\u001b[1;32m   5903\u001b[0m \u001b[0;34m\u001b[0m\u001b[0m\n\u001b[1;32m   5904\u001b[0m     \u001b[0;32mdef\u001b[0m \u001b[0m__setattr__\u001b[0m\u001b[0;34m(\u001b[0m\u001b[0mself\u001b[0m\u001b[0;34m,\u001b[0m \u001b[0mname\u001b[0m\u001b[0;34m:\u001b[0m \u001b[0mstr\u001b[0m\u001b[0;34m,\u001b[0m \u001b[0mvalue\u001b[0m\u001b[0;34m)\u001b[0m \u001b[0;34m->\u001b[0m \u001b[0;32mNone\u001b[0m\u001b[0;34m:\u001b[0m\u001b[0;34m\u001b[0m\u001b[0;34m\u001b[0m\u001b[0m\n",
            "\u001b[0;31mAttributeError\u001b[0m: 'DataFrame' object has no attribute 'dtype'"
          ]
        }
      ],
      "source": [
        "result.dtype"
      ]
    },
    {
      "cell_type": "markdown",
      "source": [],
      "metadata": {
        "id": "roNw4mbQnl0h"
      }
    },
    {
      "cell_type": "markdown",
      "source": [],
      "metadata": {
        "id": "KomQBge7nk9h"
      }
    }
  ]
}